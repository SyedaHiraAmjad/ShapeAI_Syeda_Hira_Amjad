{
  "nbformat": 4,
  "nbformat_minor": 0,
  "metadata": {
    "colab": {
      "name": "Syeda Hira Amjad.ipynb",
      "provenance": []
    },
    "kernelspec": {
      "name": "python3",
      "display_name": "Python 3"
    },
    "language_info": {
      "name": "python"
    },
    "accelerator": "GPU"
  },
  "cells": [
    {
      "cell_type": "code",
      "metadata": {
        "id": "E37n7-Un15Ha"
      },
      "source": [
        "## IMPORTING DATASET\n",
        "from keras.datasets import mnist\n",
        "data = mnist.load_data()"
      ],
      "execution_count": 9,
      "outputs": []
    },
    {
      "cell_type": "code",
      "metadata": {
        "id": "1fAmFd9E2Yfb"
      },
      "source": [
        "#Define Training and Testing data\n",
        "((X_train , y_train) , (X_test , y_test)) = data"
      ],
      "execution_count": 10,
      "outputs": []
    },
    {
      "cell_type": "code",
      "metadata": {
        "id": "XXezT9_P2vxb"
      },
      "source": [
        "#Reshape the Training Data\n",
        "X_train = X_train.reshape((X_train.shape[0], 28*28)).astype('float32')\n",
        "X_test = X_test.reshape((X_test.shape[0], 28*28)).astype('float32')"
      ],
      "execution_count": 12,
      "outputs": []
    },
    {
      "cell_type": "code",
      "metadata": {
        "id": "sBrhDJjY4u4f"
      },
      "source": [
        "#Normalizing the values from 0-255 to 0-1\n",
        "X_train = X_train/255\n",
        "X_test = X_test/255"
      ],
      "execution_count": 13,
      "outputs": []
    },
    {
      "cell_type": "code",
      "metadata": {
        "id": "Vp5bSBe248wA"
      },
      "source": [
        "from keras.utils import np_utils\n",
        "y_train = np_utils.to_categorical(y_train)\n",
        "y_test = np_utils.to_categorical(y_test)\n",
        "num_classes = y_test.shape[1]"
      ],
      "execution_count": 14,
      "outputs": []
    },
    {
      "cell_type": "code",
      "metadata": {
        "id": "owDd4VNr5YXF"
      },
      "source": [
        "from keras.models import Sequential\n",
        "from keras.layers import Dense"
      ],
      "execution_count": 23,
      "outputs": []
    },
    {
      "cell_type": "code",
      "metadata": {
        "id": "OmMuTu4G5nBX"
      },
      "source": [
        "#Define Model\n",
        "model = Sequential()\n",
        "#Add First Hidden Layer\n",
        "model.add(Dense(32, input_dim = 28*28 , activation='relu'))\n",
        "#Add Second Hidden Layer\n",
        "model.add(Dense(64 , activation='relu'))\n",
        "#Add Output layer having 10 neurons (since there are 10 classes/categories in it)\n",
        "model.add(Dense(10, activation='softmax'))"
      ],
      "execution_count": 24,
      "outputs": []
    },
    {
      "cell_type": "code",
      "metadata": {
        "id": "8N_dHogO6a8N"
      },
      "source": [
        "#Compile Model\n",
        "model.compile(loss = 'categorical_crossentropy' , optimizer = 'adam' , metrics = ['accuracy'])"
      ],
      "execution_count": 26,
      "outputs": []
    },
    {
      "cell_type": "code",
      "metadata": {
        "colab": {
          "base_uri": "https://localhost:8080/"
        },
        "id": "-0fnqqlw6bM6",
        "outputId": "ae464840-23a5-4fc0-e804-271a88e19433"
      },
      "source": [
        "#Print Model Summary\n",
        "model.summary()"
      ],
      "execution_count": 27,
      "outputs": [
        {
          "output_type": "stream",
          "text": [
            "Model: \"sequential_3\"\n",
            "_________________________________________________________________\n",
            "Layer (type)                 Output Shape              Param #   \n",
            "=================================================================\n",
            "dense_3 (Dense)              (None, 32)                25120     \n",
            "_________________________________________________________________\n",
            "dense_4 (Dense)              (None, 64)                2112      \n",
            "_________________________________________________________________\n",
            "dense_5 (Dense)              (None, 10)                650       \n",
            "=================================================================\n",
            "Total params: 27,882\n",
            "Trainable params: 27,882\n",
            "Non-trainable params: 0\n",
            "_________________________________________________________________\n"
          ],
          "name": "stdout"
        }
      ]
    },
    {
      "cell_type": "code",
      "metadata": {
        "colab": {
          "base_uri": "https://localhost:8080/"
        },
        "id": "9krEQvcG5uEJ",
        "outputId": "98e61e1d-3084-4467-fb51-2ff143ccf5db"
      },
      "source": [
        "#Train Model\n",
        "model.fit(X_train, y_train , epochs = 10 , batch_size = 100)"
      ],
      "execution_count": 28,
      "outputs": [
        {
          "output_type": "stream",
          "text": [
            "Epoch 1/10\n",
            "600/600 [==============================] - 2s 2ms/step - loss: 0.7836 - accuracy: 0.7690\n",
            "Epoch 2/10\n",
            "600/600 [==============================] - 1s 2ms/step - loss: 0.2014 - accuracy: 0.9414\n",
            "Epoch 3/10\n",
            "600/600 [==============================] - 1s 2ms/step - loss: 0.1515 - accuracy: 0.9554\n",
            "Epoch 4/10\n",
            "600/600 [==============================] - 1s 2ms/step - loss: 0.1226 - accuracy: 0.9630\n",
            "Epoch 5/10\n",
            "600/600 [==============================] - 1s 2ms/step - loss: 0.1068 - accuracy: 0.9683\n",
            "Epoch 6/10\n",
            "600/600 [==============================] - 1s 2ms/step - loss: 0.0933 - accuracy: 0.9721\n",
            "Epoch 7/10\n",
            "600/600 [==============================] - 1s 2ms/step - loss: 0.0878 - accuracy: 0.9730\n",
            "Epoch 8/10\n",
            "600/600 [==============================] - 1s 2ms/step - loss: 0.0829 - accuracy: 0.9749\n",
            "Epoch 9/10\n",
            "600/600 [==============================] - 1s 2ms/step - loss: 0.0705 - accuracy: 0.9780\n",
            "Epoch 10/10\n",
            "600/600 [==============================] - 1s 2ms/step - loss: 0.0636 - accuracy: 0.9808\n"
          ],
          "name": "stdout"
        },
        {
          "output_type": "execute_result",
          "data": {
            "text/plain": [
              "<tensorflow.python.keras.callbacks.History at 0x7fc96a5f1390>"
            ]
          },
          "metadata": {
            "tags": []
          },
          "execution_count": 28
        }
      ]
    },
    {
      "cell_type": "code",
      "metadata": {
        "colab": {
          "base_uri": "https://localhost:8080/"
        },
        "id": "ZrO7040X7OX1",
        "outputId": "8811e0fa-0797-4e58-ddd8-26b22d48a4dd"
      },
      "source": [
        "#Check Model Performance\n",
        "scores = model.evaluate(X_test , y_test)\n",
        "print(scores) ##returns loss and accuracy"
      ],
      "execution_count": 29,
      "outputs": [
        {
          "output_type": "stream",
          "text": [
            "313/313 [==============================] - 1s 2ms/step - loss: 0.1012 - accuracy: 0.9704\n",
            "[0.10118536651134491, 0.9703999757766724]\n"
          ],
          "name": "stdout"
        }
      ]
    }
  ]
}